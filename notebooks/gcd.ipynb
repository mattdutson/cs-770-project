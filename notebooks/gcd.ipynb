{
 "cells": [
  {
   "cell_type": "code",
   "execution_count": 1,
   "id": "controlling-gallery",
   "metadata": {},
   "outputs": [],
   "source": [
    "# Computes the greatest common divisor of a and b\n",
    "def gcd(a, b):\n",
    "    if a == 0:\n",
    "        return b\n",
    "    if b == 0:\n",
    "        return a\n",
    "    return gcd(b, a % b)"
   ]
  },
  {
   "cell_type": "code",
   "execution_count": 2,
   "id": "electoral-collaboration",
   "metadata": {},
   "outputs": [],
   "source": [
    "a, b = 12, 18"
   ]
  },
  {
   "cell_type": "code",
   "execution_count": 3,
   "id": "ranging-ancient",
   "metadata": {},
   "outputs": [
    {
     "data": {
      "text/plain": [
       "6"
      ]
     },
     "execution_count": 3,
     "metadata": {},
     "output_type": "execute_result"
    }
   ],
   "source": [
    "gcd(a, b)"
   ]
  },
  {
   "cell_type": "code",
   "execution_count": 5,
   "id": "final-courage",
   "metadata": {},
   "outputs": [],
   "source": [
    "a, b = 10, 15"
   ]
  },
  {
   "cell_type": "code",
   "execution_count": 4,
   "id": "brutal-fashion",
   "metadata": {},
   "outputs": [],
   "source": [
    "c = gcd(a, b)"
   ]
  },
  {
   "cell_type": "code",
   "execution_count": 6,
   "id": "frozen-kitty",
   "metadata": {},
   "outputs": [],
   "source": [
    "a, b = 27, 12"
   ]
  },
  {
   "cell_type": "code",
   "execution_count": 7,
   "id": "durable-baking",
   "metadata": {},
   "outputs": [],
   "source": [
    "d = gcd(a, b)"
   ]
  },
  {
   "cell_type": "code",
   "execution_count": 8,
   "id": "suburban-match",
   "metadata": {},
   "outputs": [],
   "source": [
    "x = gcd(c, d)"
   ]
  }
 ],
 "metadata": {
  "kernelspec": {
   "display_name": "Python 3",
   "language": "python",
   "name": "python3"
  },
  "language_info": {
   "codemirror_mode": {
    "name": "ipython",
    "version": 3
   },
   "file_extension": ".py",
   "mimetype": "text/x-python",
   "name": "python",
   "nbconvert_exporter": "python",
   "pygments_lexer": "ipython3",
   "version": "3.9.2"
  }
 },
 "nbformat": 4,
 "nbformat_minor": 5
}
