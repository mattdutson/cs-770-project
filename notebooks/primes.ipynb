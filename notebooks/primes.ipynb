{
 "cells": [
  {
   "cell_type": "code",
   "execution_count": 1,
   "id": "incoming-vulnerability",
   "metadata": {},
   "outputs": [],
   "source": [
    "primes = []"
   ]
  },
  {
   "cell_type": "code",
   "execution_count": 2,
   "id": "reflected-application",
   "metadata": {},
   "outputs": [],
   "source": [
    "# Returns true if a is prime\n",
    "def is_prime(a):\n",
    "    for j in range(2, a):\n",
    "        if a % j == 0:\n",
    "            return False\n",
    "    return True"
   ]
  },
  {
   "cell_type": "code",
   "execution_count": 4,
   "id": "valid-indonesian",
   "metadata": {
    "scrolled": true
   },
   "outputs": [],
   "source": [
    "# Determine whether integers 1-9 are prime\n",
    "for a in range(1, 10):\n",
    "    primes.append(is_prime(a))"
   ]
  },
  {
   "cell_type": "code",
   "execution_count": 3,
   "id": "sexual-gathering",
   "metadata": {},
   "outputs": [],
   "source": [
    "# Count the number of primes\n",
    "x = 0\n",
    "for prime in primes:\n",
    "    if prime:\n",
    "        x += 1"
   ]
  }
 ],
 "metadata": {
  "kernelspec": {
   "display_name": "Python 3",
   "language": "python",
   "name": "python3"
  },
  "language_info": {
   "codemirror_mode": {
    "name": "ipython",
    "version": 3
   },
   "file_extension": ".py",
   "mimetype": "text/x-python",
   "name": "python",
   "nbconvert_exporter": "python",
   "pygments_lexer": "ipython3",
   "version": "3.9.2"
  }
 },
 "nbformat": 4,
 "nbformat_minor": 5
}
