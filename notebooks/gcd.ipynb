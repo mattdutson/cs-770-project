{
 "cells": [
  {
   "cell_type": "code",
   "execution_count": 1,
   "id": "pacific-generation",
   "metadata": {},
   "outputs": [],
   "source": [
    "# Computes the greatest common divisor of a and b\n",
    "def gcd(a, b):\n",
    "    if a == 0:\n",
    "        return b\n",
    "    if b == 0:\n",
    "        return a\n",
    "    return gcd(b, a % b)"
   ]
  },
  {
   "cell_type": "code",
   "execution_count": 2,
   "id": "major-protein",
   "metadata": {},
   "outputs": [],
   "source": [
    "a = 12\n",
    "b = 18"
   ]
  },
  {
   "cell_type": "code",
   "execution_count": 3,
   "id": "reverse-tender",
   "metadata": {},
   "outputs": [
    {
     "data": {
      "text/plain": [
       "6"
      ]
     },
     "execution_count": 3,
     "metadata": {},
     "output_type": "execute_result"
    }
   ],
   "source": [
    "gcd(a, b)"
   ]
  },
  {
   "cell_type": "code",
   "execution_count": 5,
   "id": "altered-canal",
   "metadata": {},
   "outputs": [],
   "source": [
    "a = 27\n",
    "b = 12"
   ]
  },
  {
   "cell_type": "code",
   "execution_count": 4,
   "id": "emotional-tennis",
   "metadata": {},
   "outputs": [],
   "source": [
    "x = gcd(a, b)"
   ]
  }
 ],
 "metadata": {
  "kernelspec": {
   "display_name": "Python 3",
   "language": "python",
   "name": "python3"
  },
  "language_info": {
   "codemirror_mode": {
    "name": "ipython",
    "version": 3
   },
   "file_extension": ".py",
   "mimetype": "text/x-python",
   "name": "python",
   "nbconvert_exporter": "python",
   "pygments_lexer": "ipython3",
   "version": "3.9.2"
  }
 },
 "nbformat": 4,
 "nbformat_minor": 5
}
