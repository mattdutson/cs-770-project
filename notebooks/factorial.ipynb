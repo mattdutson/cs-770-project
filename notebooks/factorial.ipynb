{
 "cells": [
  {
   "cell_type": "code",
   "execution_count": 1,
   "id": "ordered-perception",
   "metadata": {},
   "outputs": [],
   "source": [
    "# Computes the factorial of a (product of numbers from 1 to a)\n",
    "def factorial(a):\n",
    "    if a == 1:\n",
    "        return  1\n",
    "    return a * factorial(a - 1)"
   ]
  },
  {
   "cell_type": "code",
   "execution_count": 2,
   "id": "mighty-inquiry",
   "metadata": {},
   "outputs": [],
   "source": [
    "a = 4"
   ]
  },
  {
   "cell_type": "code",
   "execution_count": 3,
   "id": "involved-keyboard",
   "metadata": {},
   "outputs": [
    {
     "data": {
      "text/plain": [
       "24"
      ]
     },
     "execution_count": 3,
     "metadata": {},
     "output_type": "execute_result"
    }
   ],
   "source": [
    "factorial(a)"
   ]
  },
  {
   "cell_type": "code",
   "execution_count": 4,
   "id": "solar-switch",
   "metadata": {},
   "outputs": [],
   "source": [
    "a = 2"
   ]
  },
  {
   "cell_type": "code",
   "execution_count": 5,
   "id": "cheap-discovery",
   "metadata": {},
   "outputs": [
    {
     "data": {
      "text/plain": [
       "2"
      ]
     },
     "execution_count": 5,
     "metadata": {},
     "output_type": "execute_result"
    }
   ],
   "source": [
    "factorial(a)"
   ]
  },
  {
   "cell_type": "code",
   "execution_count": 8,
   "id": "induced-monday",
   "metadata": {},
   "outputs": [],
   "source": [
    "a = 3"
   ]
  },
  {
   "cell_type": "code",
   "execution_count": 6,
   "id": "sharing-knitting",
   "metadata": {},
   "outputs": [],
   "source": [
    "b = factorial(a)"
   ]
  },
  {
   "cell_type": "code",
   "execution_count": 7,
   "id": "primary-bunny",
   "metadata": {},
   "outputs": [],
   "source": [
    "x = factorial(b)"
   ]
  }
 ],
 "metadata": {
  "kernelspec": {
   "display_name": "Python 3",
   "language": "python",
   "name": "python3"
  },
  "language_info": {
   "codemirror_mode": {
    "name": "ipython",
    "version": 3
   },
   "file_extension": ".py",
   "mimetype": "text/x-python",
   "name": "python",
   "nbconvert_exporter": "python",
   "pygments_lexer": "ipython3",
   "version": "3.9.2"
  }
 },
 "nbformat": 4,
 "nbformat_minor": 5
}
