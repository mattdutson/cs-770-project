{
 "cells": [
  {
   "cell_type": "code",
   "execution_count": 1,
   "id": "suspected-bonus",
   "metadata": {},
   "outputs": [],
   "source": [
    "# Computes the floor of the log base 2 of a\n",
    "def log2(a):\n",
    "    if a > 1:\n",
    "        return 1 + log2(a / 2)\n",
    "    else:\n",
    "        return 0"
   ]
  },
  {
   "cell_type": "code",
   "execution_count": 2,
   "id": "blond-bernard",
   "metadata": {},
   "outputs": [],
   "source": [
    "a = 6"
   ]
  },
  {
   "cell_type": "code",
   "execution_count": 3,
   "id": "differential-sound",
   "metadata": {},
   "outputs": [
    {
     "data": {
      "text/plain": [
       "3"
      ]
     },
     "execution_count": 3,
     "metadata": {},
     "output_type": "execute_result"
    }
   ],
   "source": [
    "log2(a)"
   ]
  },
  {
   "cell_type": "code",
   "execution_count": 5,
   "id": "floating-thickness",
   "metadata": {},
   "outputs": [],
   "source": [
    "a = 16"
   ]
  },
  {
   "cell_type": "code",
   "execution_count": 4,
   "id": "professional-qatar",
   "metadata": {},
   "outputs": [],
   "source": [
    "x = log2(a)"
   ]
  }
 ],
 "metadata": {
  "kernelspec": {
   "display_name": "Python 3",
   "language": "python",
   "name": "python3"
  },
  "language_info": {
   "codemirror_mode": {
    "name": "ipython",
    "version": 3
   },
   "file_extension": ".py",
   "mimetype": "text/x-python",
   "name": "python",
   "nbconvert_exporter": "python",
   "pygments_lexer": "ipython3",
   "version": "3.9.2"
  }
 },
 "nbformat": 4,
 "nbformat_minor": 5
}
