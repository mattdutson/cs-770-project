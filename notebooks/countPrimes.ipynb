{
 "cells": [
  {
   "cell_type": "code",
   "execution_count": 1,
   "id": "reported-munich",
   "metadata": {},
   "outputs": [],
   "source": [
    "# Returns True if a is prime\n",
    "def is_prime(a):\n",
    "    if(a==1): return False\n",
    "    for j in range(2, a):\n",
    "        if a % j == 0:\n",
    "            return False\n",
    "    return True"
   ]
  },
  {
   "cell_type": "code",
   "execution_count": 2,
   "id": "generic-rover",
   "metadata": {},
   "outputs": [
    {
     "data": {
      "text/plain": [
       "True"
      ]
     },
     "execution_count": 2,
     "metadata": {},
     "output_type": "execute_result"
    }
   ],
   "source": [
    "is_prime(3)"
   ]
  },
  {
   "cell_type": "code",
   "execution_count": 3,
   "id": "virtual-charm",
   "metadata": {},
   "outputs": [
    {
     "data": {
      "text/plain": [
       "False"
      ]
     },
     "execution_count": 3,
     "metadata": {},
     "output_type": "execute_result"
    }
   ],
   "source": [
    "is_prime(6)"
   ]
  },
  {
   "cell_type": "code",
   "execution_count": 4,
   "id": "communist-stocks",
   "metadata": {
    "scrolled": true
   },
   "outputs": [],
   "source": [
    "# Counts the number of primes from a to b (inclusive)\n",
    "def count_primes(a, b):\n",
    "    primes = 0\n",
    "    for x in range(a, b + 1):\n",
    "        if is_prime(x):\n",
    "            primes += 1\n",
    "    return primes"
   ]
  },
  {
   "cell_type": "code",
   "execution_count": 5,
   "id": "abstract-isolation",
   "metadata": {},
   "outputs": [
    {
     "data": {
      "text/plain": [
       "4"
      ]
     },
     "execution_count": 5,
     "metadata": {},
     "output_type": "execute_result"
    }
   ],
   "source": [
    "count_primes(1, 10)"
   ]
  },
  {
   "cell_type": "code",
   "execution_count": 6,
   "id": "cathedral-forward",
   "metadata": {},
   "outputs": [],
   "source": [
    "a, b = 11, 20"
   ]
  },
  {
   "cell_type": "code",
   "execution_count": 7,
   "id": "opened-swiss",
   "metadata": {},
   "outputs": [
    {
     "data": {
      "text/plain": [
       "4"
      ]
     },
     "execution_count": 7,
     "metadata": {},
     "output_type": "execute_result"
    }
   ],
   "source": [
    "count_primes(a, b)"
   ]
  },
  {
   "cell_type": "code",
   "execution_count": 9,
   "id": "ready-duration",
   "metadata": {},
   "outputs": [],
   "source": [
    "a, b = 21, 30"
   ]
  },
  {
   "cell_type": "code",
   "execution_count": 8,
   "id": "christian-seating",
   "metadata": {},
   "outputs": [],
   "source": [
    "x = count_primes(a, b)"
   ]
  }
 ],
 "metadata": {
  "kernelspec": {
   "display_name": "Python 3",
   "language": "python",
   "name": "python3"
  },
  "language_info": {
   "codemirror_mode": {
    "name": "ipython",
    "version": 3
   },
   "file_extension": ".py",
   "mimetype": "text/x-python",
   "name": "python",
   "nbconvert_exporter": "python",
   "pygments_lexer": "ipython3",
   "version": "3.9.2"
  }
 },
 "nbformat": 4,
 "nbformat_minor": 5
}
