{
 "cells": [
  {
   "cell_type": "code",
   "execution_count": 1,
   "id": "rapid-newport",
   "metadata": {},
   "outputs": [],
   "source": [
    "# Converts miles per hour to kilometers per hour\n",
    "def mph_to_kph(a):\n",
    "    return a * 1.6"
   ]
  },
  {
   "cell_type": "code",
   "execution_count": 2,
   "id": "pacific-handle",
   "metadata": {},
   "outputs": [],
   "source": [
    "a = 10"
   ]
  },
  {
   "cell_type": "code",
   "execution_count": 3,
   "id": "convenient-fancy",
   "metadata": {},
   "outputs": [
    {
     "data": {
      "text/plain": [
       "16.0"
      ]
     },
     "execution_count": 3,
     "metadata": {},
     "output_type": "execute_result"
    }
   ],
   "source": [
    "mph_to_kph(a)"
   ]
  },
  {
   "cell_type": "code",
   "execution_count": 5,
   "id": "commercial-circus",
   "metadata": {},
   "outputs": [],
   "source": [
    "a = 200"
   ]
  },
  {
   "cell_type": "code",
   "execution_count": 4,
   "id": "moderate-tourism",
   "metadata": {
    "scrolled": true
   },
   "outputs": [],
   "source": [
    "x = mph_to_kph(a)"
   ]
  }
 ],
 "metadata": {
  "kernelspec": {
   "display_name": "Python 3",
   "language": "python",
   "name": "python3"
  },
  "language_info": {
   "codemirror_mode": {
    "name": "ipython",
    "version": 3
   },
   "file_extension": ".py",
   "mimetype": "text/x-python",
   "name": "python",
   "nbconvert_exporter": "python",
   "pygments_lexer": "ipython3",
   "version": "3.9.2"
  }
 },
 "nbformat": 4,
 "nbformat_minor": 5
}
