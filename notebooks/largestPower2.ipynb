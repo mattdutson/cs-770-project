{
 "cells": [
  {
   "cell_type": "code",
   "execution_count": 1,
   "id": "attempted-abuse",
   "metadata": {},
   "outputs": [],
   "source": [
    "# Computes the larget power of 2 smaller than a\n",
    "def largest_power_2(a):\n",
    "    ans = 1\n",
    "    while(ans * 2 < a):\n",
    "        ans *= 2\n",
    "    return ans"
   ]
  },
  {
   "cell_type": "code",
   "execution_count": 2,
   "id": "italic-location",
   "metadata": {},
   "outputs": [],
   "source": [
    "a = 6"
   ]
  },
  {
   "cell_type": "code",
   "execution_count": 3,
   "id": "planned-gallery",
   "metadata": {},
   "outputs": [
    {
     "data": {
      "text/plain": [
       "4"
      ]
     },
     "execution_count": 3,
     "metadata": {},
     "output_type": "execute_result"
    }
   ],
   "source": [
    "largest_power_2(a)"
   ]
  },
  {
   "cell_type": "code",
   "execution_count": 4,
   "id": "lovely-horse",
   "metadata": {},
   "outputs": [],
   "source": [
    "a = 10"
   ]
  },
  {
   "cell_type": "code",
   "execution_count": 5,
   "id": "included-replacement",
   "metadata": {},
   "outputs": [
    {
     "data": {
      "text/plain": [
       "8"
      ]
     },
     "execution_count": 5,
     "metadata": {},
     "output_type": "execute_result"
    }
   ],
   "source": [
    "largest_power_2(a)"
   ]
  },
  {
   "cell_type": "code",
   "execution_count": 7,
   "id": "necessary-georgia",
   "metadata": {},
   "outputs": [],
   "source": [
    "a = 645"
   ]
  },
  {
   "cell_type": "code",
   "execution_count": 6,
   "id": "shared-entity",
   "metadata": {},
   "outputs": [],
   "source": [
    "x = largest_power_2(a)"
   ]
  }
 ],
 "metadata": {
  "kernelspec": {
   "display_name": "Python 3",
   "language": "python",
   "name": "python3"
  },
  "language_info": {
   "codemirror_mode": {
    "name": "ipython",
    "version": 3
   },
   "file_extension": ".py",
   "mimetype": "text/x-python",
   "name": "python",
   "nbconvert_exporter": "python",
   "pygments_lexer": "ipython3",
   "version": "3.9.2"
  }
 },
 "nbformat": 4,
 "nbformat_minor": 5
}
