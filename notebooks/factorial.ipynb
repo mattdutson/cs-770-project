{
 "cells": [
  {
   "cell_type": "code",
   "execution_count": 1,
   "id": "judicial-announcement",
   "metadata": {},
   "outputs": [],
   "source": [
    "# Computes the factorial of a (product of numbers from 1 to a)\n",
    "def factorial(a):\n",
    "    if a == 1:\n",
    "        return  1\n",
    "    return a * factorial(a - 1)"
   ]
  },
  {
   "cell_type": "code",
   "execution_count": 2,
   "id": "quarterly-individual",
   "metadata": {},
   "outputs": [],
   "source": [
    "a = 2"
   ]
  },
  {
   "cell_type": "code",
   "execution_count": 3,
   "id": "corresponding-general",
   "metadata": {},
   "outputs": [
    {
     "data": {
      "text/plain": [
       "2"
      ]
     },
     "execution_count": 3,
     "metadata": {},
     "output_type": "execute_result"
    }
   ],
   "source": [
    "factorial(a)"
   ]
  },
  {
   "cell_type": "code",
   "execution_count": 6,
   "id": "other-island",
   "metadata": {},
   "outputs": [],
   "source": [
    "a = 3"
   ]
  },
  {
   "cell_type": "code",
   "execution_count": 4,
   "id": "discrete-treasury",
   "metadata": {},
   "outputs": [],
   "source": [
    "b = factorial(a)"
   ]
  },
  {
   "cell_type": "code",
   "execution_count": 5,
   "id": "adjusted-moses",
   "metadata": {},
   "outputs": [],
   "source": [
    "x = factorial(b)"
   ]
  }
 ],
 "metadata": {
  "kernelspec": {
   "display_name": "Python 3",
   "language": "python",
   "name": "python3"
  },
  "language_info": {
   "codemirror_mode": {
    "name": "ipython",
    "version": 3
   },
   "file_extension": ".py",
   "mimetype": "text/x-python",
   "name": "python",
   "nbconvert_exporter": "python",
   "pygments_lexer": "ipython3",
   "version": "3.9.2"
  }
 },
 "nbformat": 4,
 "nbformat_minor": 5
}
