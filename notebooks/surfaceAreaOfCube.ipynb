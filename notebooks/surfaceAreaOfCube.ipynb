{
 "cells": [
  {
   "cell_type": "code",
   "execution_count": 1,
   "id": "informative-tolerance",
   "metadata": {},
   "outputs": [],
   "source": [
    "# Computes the area of a square\n",
    "def area(a):\n",
    "    return a * a"
   ]
  },
  {
   "cell_type": "code",
   "execution_count": 2,
   "id": "upper-cheese",
   "metadata": {},
   "outputs": [],
   "source": [
    "a = 1"
   ]
  },
  {
   "cell_type": "code",
   "execution_count": 3,
   "id": "dimensional-chess",
   "metadata": {},
   "outputs": [
    {
     "data": {
      "text/plain": [
       "1"
      ]
     },
     "execution_count": 3,
     "metadata": {},
     "output_type": "execute_result"
    }
   ],
   "source": [
    "area(a)"
   ]
  },
  {
   "cell_type": "code",
   "execution_count": 4,
   "id": "crude-cream",
   "metadata": {},
   "outputs": [],
   "source": [
    "# Computes the volume of a cube\n",
    "def volume(a):\n",
    "    return a * a * a"
   ]
  },
  {
   "cell_type": "code",
   "execution_count": 5,
   "id": "characteristic-trigger",
   "metadata": {},
   "outputs": [],
   "source": [
    "a = 2"
   ]
  },
  {
   "cell_type": "code",
   "execution_count": 6,
   "id": "superb-criterion",
   "metadata": {},
   "outputs": [
    {
     "data": {
      "text/plain": [
       "8"
      ]
     },
     "execution_count": 6,
     "metadata": {},
     "output_type": "execute_result"
    }
   ],
   "source": [
    "volume(a)"
   ]
  },
  {
   "cell_type": "code",
   "execution_count": 8,
   "id": "leading-plaza",
   "metadata": {},
   "outputs": [],
   "source": [
    "a = 3"
   ]
  },
  {
   "cell_type": "code",
   "execution_count": 7,
   "id": "exterior-variation",
   "metadata": {
    "scrolled": true
   },
   "outputs": [],
   "source": [
    "x = 6 * area(a)"
   ]
  }
 ],
 "metadata": {
  "kernelspec": {
   "display_name": "Python 3",
   "language": "python",
   "name": "python3"
  },
  "language_info": {
   "codemirror_mode": {
    "name": "ipython",
    "version": 3
   },
   "file_extension": ".py",
   "mimetype": "text/x-python",
   "name": "python",
   "nbconvert_exporter": "python",
   "pygments_lexer": "ipython3",
   "version": "3.9.2"
  }
 },
 "nbformat": 4,
 "nbformat_minor": 5
}
