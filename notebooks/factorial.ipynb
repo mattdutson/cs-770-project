{
 "cells": [
  {
   "cell_type": "code",
   "execution_count": 1,
   "id": "unlimited-following",
   "metadata": {},
   "outputs": [],
   "source": [
    "# Computes the factorial of a\n",
    "def factorial(a):\n",
    "    if a == 1:\n",
    "        return  1\n",
    "    return a * factorial(a - 1)"
   ]
  },
  {
   "cell_type": "code",
   "execution_count": 2,
   "id": "strategic-ethics",
   "metadata": {},
   "outputs": [],
   "source": [
    "a = 3"
   ]
  },
  {
   "cell_type": "code",
   "execution_count": 3,
   "id": "exempt-judge",
   "metadata": {},
   "outputs": [
    {
     "data": {
      "text/plain": [
       "6"
      ]
     },
     "execution_count": 3,
     "metadata": {},
     "output_type": "execute_result"
    }
   ],
   "source": [
    "factorial(a)"
   ]
  },
  {
   "cell_type": "code",
   "execution_count": 5,
   "id": "refined-protein",
   "metadata": {},
   "outputs": [],
   "source": [
    "a = 5"
   ]
  },
  {
   "cell_type": "code",
   "execution_count": 4,
   "id": "sunset-installation",
   "metadata": {},
   "outputs": [],
   "source": [
    "x = factorial(a)"
   ]
  }
 ],
 "metadata": {
  "kernelspec": {
   "display_name": "Python 3",
   "language": "python",
   "name": "python3"
  },
  "language_info": {
   "codemirror_mode": {
    "name": "ipython",
    "version": 3
   },
   "file_extension": ".py",
   "mimetype": "text/x-python",
   "name": "python",
   "nbconvert_exporter": "python",
   "pygments_lexer": "ipython3",
   "version": "3.9.2"
  }
 },
 "nbformat": 4,
 "nbformat_minor": 5
}
